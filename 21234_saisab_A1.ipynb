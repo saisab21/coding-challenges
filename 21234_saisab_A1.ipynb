{
 "cells": [
  {
   "cell_type": "markdown",
   "id": "f0c63888",
   "metadata": {},
   "source": 
  },
  {
   "cell_type": "markdown",
   "id": "0ef93a8f",
   "metadata": {},
   "source": [
    "# Question 1"
   ]
  },
  {
   "cell_type": "code",
   "execution_count": 1,
   "id": "eb6fff96",
   "metadata": {},
   "outputs": [
    {
     "name": "stdout",
     "output_type": "stream",
     "text": [
      "2 4 6 8 10 12 14 16 18 20 22 24 26 28 30 32 34 36 38 40 42 44 46 48 50 52 54 56 58 60 62 64 66 68 70 72 74 76 78 80 82 84 86 88 90 92 94 96 98 100 "
     ]
    }
   ],
   "source": [
    "# Question No 1\n",
    "  \n",
    "start, end = 1, 100\n",
    "  \n",
    "for num in range(start, end + 1):\n",
    "    if num % 2 == 0:\n",
    "        print(num, end = \" \")"
   ]
  },
  {
   "cell_type": "markdown",
   "id": "2fa3297b",
   "metadata": {},
   "source": [
    "# Question 2"
   ]
  },
  {
   "cell_type": "code",
   "execution_count": 2,
   "id": "323eef6c",
   "metadata": {},
   "outputs": [
    {
     "name": "stdout",
     "output_type": "stream",
     "text": [
      "Variable 'a' has data type:- <class 'int'>\n",
      "Variable 'b' has data type:- <class 'float'>\n",
      "Variable 'c' has data type:- <class 'str'>\n",
      "Variable 'd' has data type:- <class 'bool'>\n",
      "Variable 'e' has data type:- <class 'list'>\n",
      "Variable 'f' has data type:- <class 'set'>\n",
      "Variable 'g' has data type:- <class 'dict'>\n"
     ]
    }
   ],
   "source": [
    "#Question 2 \n",
    "\n",
    "a = 8\n",
    "b = 9.5748\n",
    "c = 'Go!'\n",
    "d = True\n",
    "e = [3, 'Oppenheimer']\n",
    "f = {9, 8, 100}\n",
    "g = {'India': 7184, 'Russia': 7849, 'Canada': 7435}\n",
    "\n",
    "print(\"Variable 'a' has data type:-\", type(a))\n",
    "print(\"Variable 'b' has data type:-\", type(b))\n",
    "print(\"Variable 'c' has data type:-\", type(c))\n",
    "print(\"Variable 'd' has data type:-\", type(d))\n",
    "print(\"Variable 'e' has data type:-\", type(e))\n",
    "print(\"Variable 'f' has data type:-\", type(f))\n",
    "print(\"Variable 'g' has data type:-\", type(g))\n"
   ]
  },
  {
   "cell_type": "markdown",
   "id": "c5730c5d",
   "metadata": {},
   "source": [
    "# Question 3"
   ]
  },
  {
   "cell_type": "code",
   "execution_count": 3,
   "id": "fd88adab",
   "metadata": {},
   "outputs": [
    {
     "name": "stdout",
     "output_type": "stream",
     "text": [
      "1. List after removing duplicates: [0, 1, 2, 3, 4, 5, 6, 7, 9, 10]\n",
      "2. List after concatenation: [0, 1, 2, 3, 4, 5, 6, 7, 9, 10, 20, 100, 1000]\n",
      "3. List after removing values at index positions [5],[10]: [0, 1, 2, 3, 4, 6, 7, 9, 10, 100, 1000]\n",
      "4. The final sorted list after all operations : [0, 1, 2, 3, 4, 6, 7, 9, 10, 100, 1000]\n"
     ]
    }
   ],
   "source": [
    "# The given list of no's according to the question \n",
    "main_list = [1, 2, 3, 1, 1, 2, 2, 4, 5, 6, 7, 7, 2, 1, 0, 9, 10]\n",
    "unique_list = list(set(main_list))\n",
    "print(\"1. List after removing duplicates:\", unique_list)\n",
    "\n",
    "additional_list = [20, 100, 1000]\n",
    "final_list = unique_list + additional_list\n",
    "print(\"2. List after concatenation:\", final_list)\n",
    "\n",
    "indexes_to_remove = [5, 10]\n",
    "for index in sorted(indexes_to_remove, reverse=True):\n",
    "    final_list.pop(index)\n",
    "print(\"3. List after removing values at index positions [5],[10]:\", final_list)\n",
    "\n",
    "# the output list\n",
    "final_list.sort()\n",
    "print(\"4. The final sorted list after all operations :\", final_list)"
   ]
  },
  {
   "cell_type": "markdown",
   "id": "fc60821e",
   "metadata": {},
   "source": [
    "# Question 4"
   ]
  },
  {
   "cell_type": "code",
   "execution_count": 12,
   "id": "55031f0f",
   "metadata": {},
   "outputs": [
    {
     "name": "stdout",
     "output_type": "stream",
     "text": [
      "Enter an integer (less than 1000): 455\n",
      "455 is not a prime number.\n"
     ]
    }
   ],
   "source": [
    "def is_prime(number):\n",
    "    if number <= 1:\n",
    "        return False\n",
    "    if number <= 3:\n",
    "        return True\n",
    "    if number % 2 == 0 or number % 3 == 0:\n",
    "        return False\n",
    "    i = 5\n",
    "    while i * i <= num:\n",
    "        if number % i == 0 or number % (i + 2) == 0:\n",
    "            return False\n",
    "        i += 6\n",
    "    return True\n",
    "\n",
    "\n",
    "integer_input = int(input(\"Enter an integer (less than 1000): \"))\n",
    "\n",
    "\n",
    "if is_prime(integer_input):\n",
    "    print(f\"{user_input} is a prime number.\")\n",
    "else:\n",
    "    print(f\"{integer_input} is not a prime number.\")"
   ]
  },
  {
   "cell_type": "markdown",
   "id": "4ca584e7",
   "metadata": {},
   "source": [
    "# Question 5"
   ]
  },
  {
   "cell_type": "code",
   "execution_count": 13,
   "id": "74ad6626",
   "metadata": {},
   "outputs": [
    {
     "name": "stdout",
     "output_type": "stream",
     "text": [
      "\n",
      "Menu:\n",
      "1. Insert contact\n",
      "2. Delete contact\n",
      "3. Display directory\n",
      "4. Quit\n",
      "Enter your choice: 1\n",
      "Enter name: Amit\n",
      "Enter phone number: 9335717017\n",
      "Amit added to the directory.\n",
      "\n",
      "Menu:\n",
      "1. Insert contact\n",
      "2. Delete contact\n",
      "3. Display directory\n",
      "4. Quit\n",
      "Enter your choice: 1\n",
      "Enter name: Rohan\n",
      "Enter phone number: 8896417563\n",
      "Rohan added to the directory.\n",
      "\n",
      "Menu:\n",
      "1. Insert contact\n",
      "2. Delete contact\n",
      "3. Display directory\n",
      "4. Quit\n",
      "Enter your choice: 1\n",
      "Enter name: Darshit\n",
      "Enter phone number: 7357196782\n",
      "Darshit added to the directory.\n",
      "\n",
      "Menu:\n",
      "1. Insert contact\n",
      "2. Delete contact\n",
      "3. Display directory\n",
      "4. Quit\n",
      "Enter your choice: 1\n",
      "Enter name: Rohan\n",
      "Enter phone number: 9638875219\n",
      "Rohan added to the directory.\n",
      "\n",
      "Menu:\n",
      "1. Insert contact\n",
      "2. Delete contact\n",
      "3. Display directory\n",
      "4. Quit\n",
      "Enter your choice: 1\n",
      "Enter name: Isha\n",
      "Enter phone number: 9418755876\n",
      "Isha added to the directory.\n",
      "\n",
      "Menu:\n",
      "1. Insert contact\n",
      "2. Delete contact\n",
      "3. Display directory\n",
      "4. Quit\n",
      "Enter your choice: 1\n",
      "Enter name: Anjali\n",
      "Enter phone number: 6397422753\n",
      "Anjali added to the directory.\n",
      "\n",
      "Menu:\n",
      "1. Insert contact\n",
      "2. Delete contact\n",
      "3. Display directory\n",
      "4. Quit\n",
      "Enter your choice: 2\n",
      "Enter name to delete: Darshit\n",
      "Deleted Darshit from the directory.\n",
      "\n",
      "Menu:\n",
      "1. Insert contact\n",
      "2. Delete contact\n",
      "3. Display directory\n",
      "4. Quit\n",
      "Enter your choice: 2\n",
      "Enter name to delete: Vishal\n",
      "Vishal not found in the directory.\n",
      "\n",
      "Menu:\n",
      "1. Insert contact\n",
      "2. Delete contact\n",
      "3. Display directory\n",
      "4. Quit\n",
      "Enter your choice: 1\n",
      "Enter name: Saumya\n",
      "Enter phone number: 8896416622\n",
      "Saumya added to the directory.\n",
      "\n",
      "Menu:\n",
      "1. Insert contact\n",
      "2. Delete contact\n",
      "3. Display directory\n",
      "4. Quit\n",
      "Enter your choice: 3\n",
      "Phone Directory:\n",
      "Amit: 9335717017\n",
      "Rohan: 9638875219\n",
      "Isha: 9418755876\n",
      "Anjali: 6397422753\n",
      "Saumya: 8896416622\n",
      "\n",
      "Menu:\n",
      "1. Insert contact\n",
      "2. Delete contact\n",
      "3. Display directory\n",
      "4. Quit\n",
      "Enter your choice: 4\n",
      "Exiting the phone directory.\n"
     ]
    }
   ],
   "source": [
    "def insert_contact(directory, name, phone_number):\n",
    "    directory[name] = phone_number\n",
    "\n",
    "def delete_contact(directory, name):\n",
    "    if name in directory:\n",
    "        del directory[name]\n",
    "        print(f\"Deleted {name} from the directory.\")\n",
    "    else:\n",
    "        print(f\"{name} not found in the directory.\")\n",
    "\n",
    "def display_directory(directory):\n",
    "    print(\"Phone Directory:\")\n",
    "    for name, phone_number in directory.items():\n",
    "        print(f\"{name}: {phone_number}\")\n",
    "\n",
    "# Create an empty directory\n",
    "phone_directory = {}\n",
    "\n",
    "while True:\n",
    "    print(\"\\nMenu:\")\n",
    "    print(\"1. Insert contact\")\n",
    "    print(\"2. Delete contact\")\n",
    "    print(\"3. Display directory\")\n",
    "    print(\"4. Quit\")\n",
    "\n",
    "    choice = int(input(\"Enter your choice: \"))\n",
    "\n",
    "    if choice == 1:\n",
    "        name = input(\"Enter name: \")\n",
    "        phone_number = input(\"Enter phone number: \")\n",
    "        insert_contact(phone_directory, name, phone_number)\n",
    "        print(f\"{name} added to the directory.\")\n",
    "    elif choice == 2:\n",
    "        name = input(\"Enter name to delete: \")\n",
    "        delete_contact(phone_directory, name)\n",
    "    elif choice == 3:\n",
    "        display_directory(phone_directory)\n",
    "    elif choice == 4:\n",
    "        break\n",
    "    else:\n",
    "        print(\"Invalid choice. Please select a valid option.\")\n",
    "\n",
    "print(\"Exiting the phone directory.\")"
   ]
  },
  {
   "cell_type": "markdown",
   "id": "7f351895",
   "metadata": {},
   "source": [
    "# Question 6"
   ]
  },
  {
   "cell_type": "code",
   "execution_count": 15,
   "id": "f0b63860",
   "metadata": {},
   "outputs": [
    {
     "name": "stdout",
     "output_type": "stream",
     "text": [
      "Enter the value of a: 5\n",
      "Enter the value of b: 6\n",
      "Enter the value of c: 9\n",
      "Sum of a and b: 11.0\n",
      "Difference of b and c: -3.0\n",
      "d >= e: True\n",
      "d != e: True\n",
      "e <= d: True\n",
      "e == d: False\n"
     ]
    }
   ],
   "source": [
    "# Input  from the user\n",
    "a = float(input(\"Enter the value of a: \"))\n",
    "b = float(input(\"Enter the value of b: \"))\n",
    "c = float(input(\"Enter the value of c: \"))\n",
    "\n",
    "d = a + b\n",
    "e = b - c\n",
    "\n",
    "print(\"Sum of a and b:\", d)\n",
    "\n",
    "print(\"Difference of b and c:\", e)\n",
    "\n",
    "print(\"d >= e:\", d >= e)\n",
    "print(\"d != e:\", d != e)\n",
    "print(\"e <= d:\", e <= d)\n",
    "print(\"e == d:\", e == d)\n"
   ]
  },
  {
   "cell_type": "markdown",
   "id": "9850f0e3",
   "metadata": {},
   "source": [
    "# Question 7"
   ]
  },
  {
   "cell_type": "code",
   "execution_count": 18,
   "id": "1e668d55",
   "metadata": {},
   "outputs": [
    {
     "name": "stdout",
     "output_type": "stream",
     "text": [
      "Decimal: 84\n",
      "Binary: 0b1010100\n",
      "Hexadecimal: 0x54\n",
      "Octal: 0o124\n",
      "\n",
      "Decimal: 101\n",
      "Binary: 0b1100101\n",
      "Hexadecimal: 0x65\n",
      "Octal: 0o145\n",
      "\n",
      "Bit-wise complement of 84 : -85\n",
      "Bit-wise complement of 101 : -102\n",
      "\n",
      "2-bit right shift of 84 : 21\n",
      "2-bit left shift of 101 : 404\n",
      "\n",
      "Bit-wise OR of shift_right and shift_left:- 405\n",
      "Bit-wise AND of shift_right and shift_left:- 20\n"
     ]
    }
   ],
   "source": [
    "\n",
    "number1 = 84\n",
    "number2 = 101\n",
    "\n",
    "# Conversion\n",
    "binary_number1 = bin(number1)\n",
    "hexadecimal_number1 = hex(number1)\n",
    "octal_number1 = oct(number1)\n",
    "\n",
    "binary_number2 = bin(number2)\n",
    "hexadecimal_number2 = hex(number2)\n",
    "octal_number2 = oct(number2)\n",
    "\n",
    "print(\"Decimal:\", number1)\n",
    "print(\"Binary:\", binary_number1)\n",
    "print(\"Hexadecimal:\", hexadecimal_number1)\n",
    "print(\"Octal:\", octal_number1)\n",
    "\n",
    "print(\"\\nDecimal:\", number2)\n",
    "print(\"Binary:\", binary_number2)\n",
    "print(\"Hexadecimal:\", hexadecimal_number2)\n",
    "print(\"Octal:\", octal_number2)\n",
    "\n",
    "# Complement\n",
    "complement1 = ~number1\n",
    "complement2 = ~number2\n",
    "\n",
    "print(\"\\nBit-wise complement of\", number1, \":\", complement1)\n",
    "print(\"Bit-wise complement of\", number2, \":\", complement2)\n",
    "\n",
    "# Bit shifts\n",
    "shift_right = number1 >> 2\n",
    "shift_left = number2 << 2\n",
    "\n",
    "print(\"\\n2-bit right shift of\", number1, \":\", shift_right)\n",
    "print(\"2-bit left shift of\", number2, \":\", shift_left)\n",
    "\n",
    "# Bit-wise OR and AND\n",
    "bitwise_or = shift_right | shift_left\n",
    "bitwise_and = shift_right & shift_left\n",
    "\n",
    "print(\"\\nBit-wise OR of shift_right and shift_left:-\", bitwise_or)\n",
    "print(\"Bit-wise AND of shift_right and shift_left:-\", bitwise_and)\n"
   ]
  },
  {
   "cell_type": "markdown",
   "id": "79e9d1e6",
   "metadata": {},
   "source": [
    "# Question 8"
   ]
  },
  {
   "cell_type": "code",
   "execution_count": 19,
   "id": "a244f8c3",
   "metadata": {},
   "outputs": [
    {
     "name": "stdout",
     "output_type": "stream",
     "text": [
      "Number of 5's in the tuple: 4\n",
      "Result of b * 3: ('orange', 'apples', 7, 8, 'orange', 'apples', 7, 8, 'orange', 'apples', 7, 8)\n",
      "Swapped tuple: (9, 4)\n"
     ]
    }
   ],
   "source": [
    "# Part A\n",
    "a = (2, 5, 5, 5, 3, 2, 5)\n",
    "count_of_fives = a.count(5)\n",
    "print(\"Number of 5's in the tuple:\", count_of_fives)\n",
    "\n",
    "# Part B\n",
    "b = ('orange', 'apples', 7, 8)\n",
    "result_b = b * 3\n",
    "print(\"Result of b * 3:\", result_b)\n",
    "\n",
    "# Part C\n",
    "nums = (4, 9)\n",
    "num1, num2 = nums\n",
    "num2, num1 = num1, num2  # Swapping\n",
    "swapped_tuple = (num1, num2)\n",
    "print(\"Swapped tuple:\", swapped_tuple)\n"
   ]
  },
  {
   "cell_type": "code",
   "execution_count": null,
   "id": "daee1cb4",
   "metadata": {},
   "outputs": [],
   "source": []
  }
 ],
 "metadata": {
  "kernelspec": {
   "display_name": "Python 3 (ipykernel)",
   "language": "python",
   "name": "python3"
  },
  "language_info": {
   "codemirror_mode": {
    "name": "ipython",
    "version": 3
   },
   "file_extension": ".py",
   "mimetype": "text/x-python",
   "name": "python",
   "nbconvert_exporter": "python",
   "pygments_lexer": "ipython3",
   "version": "3.10.9"
  }
 },
 "nbformat": 4,
 "nbformat_minor": 5
}
